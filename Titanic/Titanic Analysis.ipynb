{
 "cells": [
  {
   "cell_type": "code",
   "execution_count": 116,
   "metadata": {},
   "outputs": [],
   "source": [
    "%matplotlib inline\n",
    "import pandas as pd\n",
    "import numpy as np\n",
    "from scipy import stats\n",
    "from matplotlib import pyplot as plt\n",
    "from sklearn.linear_model import LogisticRegression\n",
    "from sklearn.ensemble import RandomForestClassifier\n",
    "from sklearn.linear_model import LinearRegression\n",
    "from sklearn.model_selection import cross_val_score\n",
    "from sklearn import metrics\n",
    "import seaborn as sns\n",
    "from ggplot import *"
   ]
  },
  {
   "cell_type": "markdown",
   "metadata": {},
   "source": [
    "Data Dictionary\n",
    "\n",
    "Variable\tDefinition\tKey\n",
    "survival\tSurvival\t0 = No, 1 = Yes\n",
    "pclass\tTicket class\t1 = 1st, 2 = 2nd, 3 = 3rd\n",
    "sex\tSex\t\n",
    "Age\tAge in years\t\n",
    "sibsp\t# of siblings / spouses aboard the Titanic\t\n",
    "parch\t# of parents / children aboard the Titanic\t\n",
    "ticket\tTicket number\t\n",
    "fare\tPassenger fare\t\n",
    "cabin\tCabin number\t\n",
    "embarked\tPort of Embarkation\tC = Cherbourg, Q = Queenstown, S = Southampton\n",
    "Variable Notes\n",
    "\n",
    "pclass: A proxy for socio-economic status (SES)\n",
    "1st = Upper\n",
    "2nd = Middle\n",
    "3rd = Lower\n",
    "\n",
    "age: Age is fractional if less than 1. If the age is estimated, is it in the form of xx.5\n",
    "\n",
    "sibsp: The dataset defines family relations in this way...\n",
    "Sibling = brother, sister, stepbrother, stepsister\n",
    "Spouse = husband, wife (mistresses and fiancés were ignored)\n",
    "\n",
    "parch: The dataset defines family relations in this way...\n",
    "Parent = mother, father\n",
    "Child = daughter, son, stepdaughter, stepson\n",
    "Some children travelled only with a nanny, therefore parch=0 for them.\n"
   ]
  },
  {
   "cell_type": "code",
   "execution_count": 122,
   "metadata": {},
   "outputs": [
    {
     "name": "stdout",
     "output_type": "stream",
     "text": [
      "<class 'pandas.core.frame.DataFrame'>\n",
      "RangeIndex: 891 entries, 0 to 890\n",
      "Data columns (total 12 columns):\n",
      "PassengerId    891 non-null int64\n",
      "Survived       891 non-null int64\n",
      "Pclass         891 non-null int64\n",
      "Name           891 non-null object\n",
      "Sex            891 non-null object\n",
      "Age            714 non-null float64\n",
      "SibSp          891 non-null int64\n",
      "Parch          891 non-null int64\n",
      "Ticket         891 non-null object\n",
      "Fare           891 non-null float64\n",
      "Cabin          204 non-null object\n",
      "Embarked       889 non-null object\n",
      "dtypes: float64(2), int64(5), object(5)\n",
      "memory usage: 83.6+ KB\n",
      "<class 'pandas.core.frame.DataFrame'>\n",
      "RangeIndex: 418 entries, 0 to 417\n",
      "Data columns (total 11 columns):\n",
      "PassengerId    418 non-null int64\n",
      "Pclass         418 non-null int64\n",
      "Name           418 non-null object\n",
      "Sex            418 non-null object\n",
      "Age            332 non-null float64\n",
      "SibSp          418 non-null int64\n",
      "Parch          418 non-null int64\n",
      "Ticket         418 non-null object\n",
      "Fare           417 non-null float64\n",
      "Cabin          91 non-null object\n",
      "Embarked       418 non-null object\n",
      "dtypes: float64(2), int64(4), object(5)\n",
      "memory usage: 36.0+ KB\n",
      "       PassengerId    Survived      Pclass         Age       SibSp  \\\n",
      "count   891.000000  891.000000  891.000000  714.000000  891.000000   \n",
      "mean    446.000000    0.383838    2.308642   29.699118    0.523008   \n",
      "std     257.353842    0.486592    0.836071   14.526497    1.102743   \n",
      "min       1.000000    0.000000    1.000000    0.420000    0.000000   \n",
      "25%     223.500000    0.000000    2.000000   20.125000    0.000000   \n",
      "50%     446.000000    0.000000    3.000000   28.000000    0.000000   \n",
      "75%     668.500000    1.000000    3.000000   38.000000    1.000000   \n",
      "max     891.000000    1.000000    3.000000   80.000000    8.000000   \n",
      "\n",
      "            Parch        Fare  \n",
      "count  891.000000  891.000000  \n",
      "mean     0.381594   32.204208  \n",
      "std      0.806057   49.693429  \n",
      "min      0.000000    0.000000  \n",
      "25%      0.000000    7.910400  \n",
      "50%      0.000000   14.454200  \n",
      "75%      0.000000   31.000000  \n",
      "max      6.000000  512.329200  \n"
     ]
    }
   ],
   "source": [
    "# Survived = Pclass, Sex, Age, [SibSp, Parch] - Family , Fare, Embarked\n",
    "train = pd.read_csv('/Users/changlonghuang/Documents/Python/Titanic/train.csv')\n",
    "test = pd.read_csv('/Users/changlonghuang/Documents/Python/Titanic/test.csv')\n",
    "\n",
    "# get info on the data columns\n",
    "train.info()\n",
    "test.info()\n",
    "print train.describe()\n",
    "\n",
    "# Cabin is probably correlated with class. passengerID, name, ticket are not important since they are IDs\n",
    "not_needed_list = ['PassengerId', 'Name', 'Ticket', 'Cabin']\n",
    "dummy_var_list = ['Sex', 'Embarked', 'Pclass']\n",
    "y = 'Survived'\n",
    "\n",
    "# fill the missing values in the train and test data\n",
    "def set_col_to_bool(df, col1, col2, new_col):\n",
    "    df[new_col] = df[col1] + df[col2]\n",
    "    df[new_col].loc[df[new_col] > 0] = 1\n",
    "    df[new_col].loc[df[new_col] == 0] = 0\n",
    "    df = df.drop([col1,col2], axis = 1)\n",
    "    return df\n",
    "\n",
    "# iterate to drop features in a list and returns dataframe\n",
    "def drop_list_features(df, list_of_features):\n",
    "    for feature in list_of_features:\n",
    "        df = df.drop(feature, axis = 1)\n",
    "    return df\n",
    "\n",
    "# automate most of the logistic regression steps\n",
    "def logistic_modeling(df_x, df_y):\n",
    "    log = LogisticRegression(class_weight = 'balanced')\n",
    "    log.fit(df_x, df_y)\n",
    "    print 'Score is: %.4f' % log.score(df_x, df_y)\n",
    "    return log\n",
    "\n",
    "# apply dummy variables to dataset\n",
    "def apply_dummy(df, y, dummy_feature_list):\n",
    "    new_df = pd.get_dummies(df, columns = dummy_feature_list)\n",
    "    try:\n",
    "        dummy_x = new_df.drop(y,axis =1)\n",
    "    except:\n",
    "        dummy_x = new_df\n",
    "    return dummy_x\n",
    "\n",
    "# cross validation of the model\n",
    "def cross_validation(model, x, y):\n",
    "    scores = cross_val_score(model, x,y , cv=5)\n",
    "    print \"Accuracy: %.2f (+/-%.2f)\" %(scores.mean(), scores.std()*2)\n",
    "    return scores"
   ]
  },
  {
   "cell_type": "code",
   "execution_count": 120,
   "metadata": {},
   "outputs": [
    {
     "name": "stderr",
     "output_type": "stream",
     "text": [
      "/Users/changlonghuang/anaconda2/lib/python2.7/site-packages/ipykernel_launcher.py:17: SettingWithCopyWarning: \n",
      "A value is trying to be set on a copy of a slice from a DataFrame.\n",
      "Try using .loc[row_indexer,col_indexer] = value instead\n",
      "\n",
      "See the caveats in the documentation: http://pandas.pydata.org/pandas-docs/stable/indexing.html#indexing-view-versus-copy\n",
      "/Users/changlonghuang/anaconda2/lib/python2.7/site-packages/ipykernel_launcher.py:18: SettingWithCopyWarning: \n",
      "A value is trying to be set on a copy of a slice from a DataFrame\n",
      "\n",
      "See the caveats in the documentation: http://pandas.pydata.org/pandas-docs/stable/indexing.html#indexing-view-versus-copy\n",
      "/Users/changlonghuang/anaconda2/lib/python2.7/site-packages/ipykernel_launcher.py:19: SettingWithCopyWarning: \n",
      "A value is trying to be set on a copy of a slice from a DataFrame\n",
      "\n",
      "See the caveats in the documentation: http://pandas.pydata.org/pandas-docs/stable/indexing.html#indexing-view-versus-copy\n"
     ]
    }
   ],
   "source": [
    "\"\"\"\n",
    "# data used for linear regression on Age\n",
    "# Seems like the important variables for the linear regression are Fare, SibSp, Parch, Survived(dropped), Sex_female, Sex_male\n",
    "linear_age_features = ['Fare', 'Family','Sex_female', 'Sex_male', 'Embarked_S']\n",
    "train_age_null = set_col_to_bool(train[train['Age'].isnull()], 'SibSp', 'Parch', 'Family')\n",
    "train_age_not_null = set_col_to_bool(train[train['Age'].notnull()], 'SibSp', 'Parch', 'Family')\n",
    "\n",
    "new_x = drop_list_features(train_age_null, not_needed_list)\n",
    "age_null = apply_dummy(new_x, 'Age', dummy_var_list)\n",
    "\n",
    "new_y = drop_list_features(train_age_not_null, not_needed_list)\n",
    "age_not_null_x = apply_dummy(new_y, 'Age', dummy_var_list)\n",
    "age_not_null_y = new_y['Age']\n",
    "\n",
    "lin = LinearRegression()\n",
    "lin_model = lin.fit(age_not_null_x[linear_age_features],age_not_null_y)\n",
    "train_pred = lin_model.predict(age_null[linear_age_features])\n",
    "\"\"\""
   ]
  },
  {
   "cell_type": "code",
   "execution_count": 121,
   "metadata": {},
   "outputs": [
    {
     "name": "stdout",
     "output_type": "stream",
     "text": [
      "Feature Name: Fare | Importance Value: 0.7615\n",
      "Feature Name: Survived | Importance Value: 0.0530\n",
      "Feature Name: Family | Importance Value: 0.0347\n",
      "Feature Name: Sex_male | Importance Value: 0.0341\n",
      "Feature Name: Sex_female | Importance Value: 0.0253\n",
      "Feature Name: Embarked_S | Importance Value: 0.0245\n",
      "Feature Name: Embarked_C | Importance Value: 0.0243\n",
      "Feature Name: Pclass_3 | Importance Value: 0.0129\n",
      "Feature Name: Embarked_Q | Importance Value: 0.0109\n",
      "Feature Name: Pclass_2 | Importance Value: 0.0104\n",
      "Feature Name: Pclass_1 | Importance Value: 0.0084\n"
     ]
    }
   ],
   "source": [
    "rfc_age = RandomForestClassifier()\n",
    "rfc_age.fit(age_not_null_x, age_not_null_y.astype(int))\n",
    "\n",
    "feature_names = list(age_not_null_x)\n",
    "importance = rfc_age.feature_importances_\n",
    "indicies = np.argsort(importance)[::-1]\n",
    "\n",
    "for i in indicies:\n",
    "    print \"Feature Name: %s | Importance Value: %.4f\" %(feature_names[i], importance[i])\n",
    "\n"
   ]
  },
  {
   "cell_type": "code",
   "execution_count": 80,
   "metadata": {
    "collapsed": true
   },
   "outputs": [],
   "source": [
    "# data used for predicting\n",
    "train['Embarked'] = train['Embarked'].fillna('S')\n",
    "train['Age'] = train['Age'].fillna(train['Age'].median())\n",
    "\n",
    "#========Can work on Age feature========\n",
    "test['Age'] = test['Age'].fillna(test['Age'].median())\n",
    "test['Fare'] = test['Fare'].fillna(test['Fare'].median())"
   ]
  },
  {
   "cell_type": "code",
   "execution_count": 81,
   "metadata": {
    "scrolled": true
   },
   "outputs": [
    {
     "name": "stdout",
     "output_type": "stream",
     "text": [
      "   PassengerId  Survived  Pclass  \\\n",
      "0            1         0       3   \n",
      "1            2         1       1   \n",
      "2            3         1       3   \n",
      "3            4         1       1   \n",
      "4            5         0       3   \n",
      "\n",
      "                                                Name     Sex   Age  \\\n",
      "0                            Braund, Mr. Owen Harris    male  22.0   \n",
      "1  Cumings, Mrs. John Bradley (Florence Briggs Th...  female  38.0   \n",
      "2                             Heikkinen, Miss. Laina  female  26.0   \n",
      "3       Futrelle, Mrs. Jacques Heath (Lily May Peel)  female  35.0   \n",
      "4                           Allen, Mr. William Henry    male  35.0   \n",
      "\n",
      "             Ticket     Fare Cabin Embarked  Family  \n",
      "0         A/5 21171   7.2500   NaN        S       1  \n",
      "1          PC 17599  71.2833   C85        C       1  \n",
      "2  STON/O2. 3101282   7.9250   NaN        S       0  \n",
      "3            113803  53.1000  C123        S       1  \n",
      "4            373450   8.0500   NaN        S       0  \n"
     ]
    },
    {
     "data": {
      "text/html": [
       "<div>\n",
       "<style>\n",
       "    .dataframe thead tr:only-child th {\n",
       "        text-align: right;\n",
       "    }\n",
       "\n",
       "    .dataframe thead th {\n",
       "        text-align: left;\n",
       "    }\n",
       "\n",
       "    .dataframe tbody tr th {\n",
       "        vertical-align: top;\n",
       "    }\n",
       "</style>\n",
       "<table border=\"1\" class=\"dataframe\">\n",
       "  <thead>\n",
       "    <tr style=\"text-align: right;\">\n",
       "      <th></th>\n",
       "      <th>PassengerId</th>\n",
       "      <th>Survived</th>\n",
       "      <th>Pclass</th>\n",
       "      <th>Age</th>\n",
       "      <th>Fare</th>\n",
       "      <th>Family</th>\n",
       "    </tr>\n",
       "  </thead>\n",
       "  <tbody>\n",
       "    <tr>\n",
       "      <th>count</th>\n",
       "      <td>891.000000</td>\n",
       "      <td>891.000000</td>\n",
       "      <td>891.000000</td>\n",
       "      <td>891.000000</td>\n",
       "      <td>891.000000</td>\n",
       "      <td>891.000000</td>\n",
       "    </tr>\n",
       "    <tr>\n",
       "      <th>mean</th>\n",
       "      <td>446.000000</td>\n",
       "      <td>0.383838</td>\n",
       "      <td>2.308642</td>\n",
       "      <td>29.361582</td>\n",
       "      <td>32.204208</td>\n",
       "      <td>0.397306</td>\n",
       "    </tr>\n",
       "    <tr>\n",
       "      <th>std</th>\n",
       "      <td>257.353842</td>\n",
       "      <td>0.486592</td>\n",
       "      <td>0.836071</td>\n",
       "      <td>13.019697</td>\n",
       "      <td>49.693429</td>\n",
       "      <td>0.489615</td>\n",
       "    </tr>\n",
       "    <tr>\n",
       "      <th>min</th>\n",
       "      <td>1.000000</td>\n",
       "      <td>0.000000</td>\n",
       "      <td>1.000000</td>\n",
       "      <td>0.420000</td>\n",
       "      <td>0.000000</td>\n",
       "      <td>0.000000</td>\n",
       "    </tr>\n",
       "    <tr>\n",
       "      <th>25%</th>\n",
       "      <td>223.500000</td>\n",
       "      <td>0.000000</td>\n",
       "      <td>2.000000</td>\n",
       "      <td>22.000000</td>\n",
       "      <td>7.910400</td>\n",
       "      <td>0.000000</td>\n",
       "    </tr>\n",
       "    <tr>\n",
       "      <th>50%</th>\n",
       "      <td>446.000000</td>\n",
       "      <td>0.000000</td>\n",
       "      <td>3.000000</td>\n",
       "      <td>28.000000</td>\n",
       "      <td>14.454200</td>\n",
       "      <td>0.000000</td>\n",
       "    </tr>\n",
       "    <tr>\n",
       "      <th>75%</th>\n",
       "      <td>668.500000</td>\n",
       "      <td>1.000000</td>\n",
       "      <td>3.000000</td>\n",
       "      <td>35.000000</td>\n",
       "      <td>31.000000</td>\n",
       "      <td>1.000000</td>\n",
       "    </tr>\n",
       "    <tr>\n",
       "      <th>max</th>\n",
       "      <td>891.000000</td>\n",
       "      <td>1.000000</td>\n",
       "      <td>3.000000</td>\n",
       "      <td>80.000000</td>\n",
       "      <td>512.329200</td>\n",
       "      <td>1.000000</td>\n",
       "    </tr>\n",
       "  </tbody>\n",
       "</table>\n",
       "</div>"
      ],
      "text/plain": [
       "       PassengerId    Survived      Pclass         Age        Fare      Family\n",
       "count   891.000000  891.000000  891.000000  891.000000  891.000000  891.000000\n",
       "mean    446.000000    0.383838    2.308642   29.361582   32.204208    0.397306\n",
       "std     257.353842    0.486592    0.836071   13.019697   49.693429    0.489615\n",
       "min       1.000000    0.000000    1.000000    0.420000    0.000000    0.000000\n",
       "25%     223.500000    0.000000    2.000000   22.000000    7.910400    0.000000\n",
       "50%     446.000000    0.000000    3.000000   28.000000   14.454200    0.000000\n",
       "75%     668.500000    1.000000    3.000000   35.000000   31.000000    1.000000\n",
       "max     891.000000    1.000000    3.000000   80.000000  512.329200    1.000000"
      ]
     },
     "execution_count": 81,
     "metadata": {},
     "output_type": "execute_result"
    }
   ],
   "source": [
    "# we know that Titanic survivers usually had family\n",
    "full_train = set_col_to_bool(train, 'SibSp', 'Parch', 'Family')\n",
    "full_test = set_col_to_bool(test, 'SibSp', 'Parch','Family')\n",
    "\n",
    "print full_train.head()\n",
    "\n",
    "#get descriptive stats\n",
    "full_train.describe()"
   ]
  },
  {
   "cell_type": "code",
   "execution_count": 82,
   "metadata": {
    "scrolled": false
   },
   "outputs": [
    {
     "data": {
      "image/png": "[encoded data removed]",
      "text/plain": [
       "<matplotlib.figure.Figure at 0x10fa120d0>"
      ]
     },
     "metadata": {},
     "output_type": "display_data"
    },
    {
     "data": {
      "image/png": "[encoded data removed]",
      "text/plain": [
       "<matplotlib.figure.Figure at 0x1101faa50>"
      ]
     },
     "metadata": {},
     "output_type": "display_data"
    },
    {
     "data": {
      "image/png": "[encoded data removed]",
      "text/plain": [
       "<matplotlib.figure.Figure at 0x1145cd910>"
      ]
     },
     "metadata": {},
     "output_type": "display_data"
    },
    {
     "data": {
      "image/png": "[encoded data removed]",
      "text/plain": [
       "<matplotlib.figure.Figure at 0x1143eddd0>"
      ]
     },
     "metadata": {},
     "output_type": "display_data"
    },
    {
     "data": {
      "image/png": "[encoded data removed]",
      "text/plain": [
       "<matplotlib.figure.Figure at 0x114cc6890>"
      ]
     },
     "metadata": {},
     "output_type": "display_data"
    },
    {
     "data": {
      "image/png": "[encoded data removed]",
      "text/plain": [
       "<matplotlib.figure.Figure at 0x10f98eb90>"
      ]
     },
     "metadata": {},
     "output_type": "display_data"
    },
    {
     "data": {
      "image/png": "[encoded data removed]",
      "text/plain": [
       "<matplotlib.figure.Figure at 0x10fb5f710>"
      ]
     },
     "metadata": {},
     "output_type": "display_data"
    },
    {
     "data": {
      "image/png": "[encoded data removed]",
      "text/plain": [
       "<matplotlib.figure.Figure at 0x1101a3a50>"
      ]
     },
     "metadata": {},
     "output_type": "display_data"
    },
    {
     "data": {
      "image/png": "[encoded data removed]",
      "text/plain": [
       "<matplotlib.figure.Figure at 0x11420de50>"
      ]
     },
     "metadata": {},
     "output_type": "display_data"
    },
    {
     "data": {
      "image/png": "[encoded data removed]",
      "text/plain": [
       "<matplotlib.figure.Figure at 0x1148ba3d0>"
      ]
     },
     "metadata": {},
     "output_type": "display_data"
    },
    {
     "data": {
      "image/png": "[encoded data removed]",
      "text/plain": [
       "<matplotlib.figure.Figure at 0x114b18f90>"
      ]
     },
     "metadata": {},
     "output_type": "display_data"
    },
    {
     "data": {
      "image/png": "[encoded data removed]",
      "text/plain": [
       "<matplotlib.figure.Figure at 0x114b56c90>"
      ]
     },
     "metadata": {},
     "output_type": "display_data"
    }
   ],
   "source": [
    "cleaned_train = drop_list_features(full_train, not_needed_list)\n",
    "cleaned_test = drop_list_features(full_test, not_needed_list[1:])\n",
    "\n",
    "# cleaned data\n",
    "dummy_x = apply_dummy(cleaned_train, y, dummy_var_list)\n",
    "dummy_test = apply_dummy(cleaned_test, y, dummy_var_list)\n",
    "dummy_y = full_train[y]\n",
    "\n",
    "\"\"\"\n",
    "dummy_x_prediction = lin_model.predict(dummy_x[linear_age_features])\n",
    "# fillna will fill a column of length x with the series of length y.\n",
    "# So just predict on all data and then use fillna to spot fill the NaN values\n",
    "dummy_x['Age'] =  dummy_x['Age'].fillna(pd.Series(dummy_x_prediction))\n",
    "\n",
    "\n",
    "dummy_test_prediction = lin_model.predict(dummy_test[linear_age_features])\n",
    "dummy_test['Age'] =  dummy_test['Age'].fillna(pd.Series(dummy_test_prediction))\n",
    "\"\"\"\n",
    "# create correlation matrix\n",
    "cleaned_corr = dummy_x.corr()\n",
    "sns.heatmap(cleaned_corr, xticklabels = True, cmap=\"Purples\")\n",
    "\n",
    "# create histograms of the data\n",
    "# hist function does not take NaN well\n",
    "for i in list(dummy_x):\n",
    "    fig = plt.figure()\n",
    "    plt.hist(dummy_x[i])\n",
    "    plt.yscale('log')\n",
    "    plt.title(i)\n",
    "    plt.xlabel(i)\n",
    "    plt.show()\n",
    "    plt.close(fig)"
   ]
  },
  {
   "cell_type": "code",
   "execution_count": 105,
   "metadata": {},
   "outputs": [
    {
     "name": "stdout",
     "output_type": "stream",
     "text": [
      "Score of Random Tree is:    1\n",
      "Feature Name: Sex_male | Importance Value: 0.3266\n",
      "Feature Name: Fare | Importance Value: 0.2462\n",
      "Feature Name: Age | Importance Value: 0.2223\n",
      "Feature Name: Pclass_3 | Importance Value: 0.0636\n",
      "Feature Name: Sex_female | Importance Value: 0.0505\n",
      "Feature Name: Pclass_1 | Importance Value: 0.0297\n",
      "Feature Name: Family | Importance Value: 0.0167\n",
      "Feature Name: Pclass_2 | Importance Value: 0.0124\n",
      "Feature Name: Embarked_C | Importance Value: 0.0124\n",
      "Feature Name: Embarked_S | Importance Value: 0.0123\n",
      "Feature Name: Embarked_Q | Importance Value: 0.0072\n",
      "Accuracy: 0.83 (+/-0.04)\n",
      "[ 0.80446927  0.81564246  0.84831461  0.80898876  0.85875706]\n"
     ]
    }
   ],
   "source": [
    "rfc = RandomForestClassifier(n_estimators = 200, max_features = 9, max_depth = 9, class_weight= \"balanced\", random_state = 3)\n",
    "rfc_model = rfc.fit(dummy_x, dummy_y)\n",
    "\n",
    "feature_names = list(dummy_x)\n",
    "importance = rfc_model.feature_importances_\n",
    "indicies = np.argsort(importance)[::-1]\n",
    "\n",
    "print \"Score of Random Tree is: %4.f\" % rfc_model.score(dummy_x, dummy_y)\n",
    "\n",
    "for i in indicies:\n",
    "    print \"Feature Name: %s | Importance Value: %.4f\" %(feature_names[i], importance[i])\n",
    "print cross_validation(rfc_model, dummy_x, dummy_y)"
   ]
  },
  {
   "cell_type": "code",
   "execution_count": 124,
   "metadata": {},
   "outputs": [
    {
     "name": "stdout",
     "output_type": "stream",
     "text": [
      "Score is: 0.7845\n",
      "['Age', 'Fare', 'Family', 'Sex_female', 'Sex_male', 'Embarked_C', 'Embarked_Q', 'Embarked_S', 'Pclass_1', 'Pclass_2', 'Pclass_3']\n",
      "Accuracy: 0.78 (+/-0.02)\n",
      "[ 0.78212291  0.76536313  0.79213483  0.75842697  0.77966102]\n"
     ]
    }
   ],
   "source": [
    "# logistic regression\n",
    "first_model = logistic_modeling(dummy_x, dummy_y)\n",
    "print list(dummy_x)\n",
    "print cross_validation(first_model, dummy_x, dummy_y)"
   ]
  },
  {
   "cell_type": "code",
   "execution_count": 125,
   "metadata": {},
   "outputs": [
    {
     "name": "stdout",
     "output_type": "stream",
     "text": [
      "Score is: 0.7856\n",
      "['Age', 'Fare', 'Sex_female', 'Sex_male', 'Pclass_1', 'Pclass_3']\n",
      "Accuracy: 0.78 (+/-0.03)\n",
      "[ 0.77653631  0.77094972  0.79775281  0.75842697  0.78531073]\n"
     ]
    }
   ],
   "source": [
    "# logistic regression round two\n",
    "# not needed features after random tree ['Embarked_S', 'Embarked_C', 'Embarked_Q']\n",
    "embarked_feature = ['Embarked_S', 'Embarked_C', 'Embarked_Q', 'Pclass_2', 'Family']\n",
    "new_dummy_x = drop_list_features(dummy_x, embarked_feature)\n",
    "\n",
    "second_model = logistic_modeling(new_dummy_x, dummy_y)\n",
    "print list(new_dummy_x)\n",
    "print cross_validation(second_model, new_dummy_x, dummy_y)"
   ]
  },
  {
   "cell_type": "code",
   "execution_count": 107,
   "metadata": {},
   "outputs": [
    {
     "data": {
      "image/png": "[encoded data removed]",
      "text/plain": [
       "<matplotlib.figure.Figure at 0x1102038d0>"
      ]
     },
     "metadata": {},
     "output_type": "display_data"
    },
    {
     "data": {
      "text/plain": [
       "<ggplot: (289780197)>"
      ]
     },
     "execution_count": 107,
     "metadata": {},
     "output_type": "execute_result"
    }
   ],
   "source": [
    "# ROC curve\n",
    "def ROC_curve_generation_log(model, x_dataset, y_dataset):\n",
    "    pred = model.predict_proba(x_dataset)[:,1]\n",
    "    fpr, tpr, _ = metrics.roc_curve(y_dataset, pred)\n",
    "    df = pd.DataFrame(dict(fpr=fpr, tpr=tpr))\n",
    "    auc = metrics.auc(fpr,tpr)\n",
    "    ROC_plot = ggplot(df, aes(x='fpr', y='tpr')) +\\\n",
    "           geom_line() +\\\n",
    "           geom_abline(linetype='dashed') +\\\n",
    "           xlim(0,1) +\\\n",
    "           ylim(0,1) +\\\n",
    "           ggtitle(\"ROC Curve w/ AUC=%.4f for model\" % auc)\n",
    "    return ROC_plot\n",
    "\n",
    "ROC_curve_generation_log(rfc_model,dummy_x, dummy_y)\n",
    "#ROC_curve_generation_log(first_model, dummy_x, dummy_y)\n",
    "#ROC_curve_generation_log(second_model, new_dummy_x, dummy_y)"
   ]
  },
  {
   "cell_type": "code",
   "execution_count": 108,
   "metadata": {
    "collapsed": true
   },
   "outputs": [],
   "source": [
    "# predictions here\n",
    "def predict_on_test(test_df, model):\n",
    "    new_df = pd.DataFrame()\n",
    "    new_df['PassengerId'] = test_df['PassengerId']\n",
    "    test_df = test_df.drop('PassengerId', axis = 1)\n",
    "    pred = model.predict(test_df)\n",
    "    new_df['Survived'] = pred\n",
    "    return new_df\n",
    "\n",
    "third_model_prediction = predict_on_test(dummy_test, rfc_model)\n",
    "third_model_prediction.to_csv(path_or_buf = '/Users/changlonghuang/Documents/Python/Titanic/prediction5.csv',index = False)"
   ]
  }
 ],
 "metadata": {
  "kernelspec": {
   "display_name": "Python 2",
   "language": "python",
   "name": "python2"
  },
  "language_info": {
   "codemirror_mode": {
    "name": "ipython",
    "version": 2
   },
   "file_extension": ".py",
   "mimetype": "text/x-python",
   "name": "python",
   "nbconvert_exporter": "python",
   "pygments_lexer": "ipython2",
   "version": "2.7.13"
  }
 },
 "nbformat": 4,
 "nbformat_minor": 2
}
